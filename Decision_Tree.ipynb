{
  "nbformat": 4,
  "nbformat_minor": 0,
  "metadata": {
    "colab": {
      "provenance": [],
      "authorship_tag": "ABX9TyOEdv50WGRvxMsz+RIYumBk",
      "include_colab_link": true
    },
    "kernelspec": {
      "name": "python3",
      "display_name": "Python 3"
    },
    "language_info": {
      "name": "python"
    }
  },
  "cells": [
    {
      "cell_type": "markdown",
      "metadata": {
        "id": "view-in-github",
        "colab_type": "text"
      },
      "source": [
        "<a href=\"https://colab.research.google.com/github/REROUN/ML-DL/blob/main/Decision_Tree.ipynb\" target=\"_parent\"><img src=\"https://colab.research.google.com/assets/colab-badge.svg\" alt=\"Open In Colab\"/></a>"
      ]
    },
    {
      "cell_type": "markdown",
      "source": [
        "* max_depth  \n",
        "  - 트리의 최대 깊이를 규정\n",
        "  - 디폴트는 None. None으로 설정하면 완벽하게 클래스 결정 값이 될 때까지 깊이를 계속 키우며 분할 하거나 노드가 가지는 데이터 개수가 min_samples_split보다 작아질 때까지 계속 깊이를 증가시킴.\n",
        "  - 깊이가 깊어지면 min_samples_split 설정대로 최대 분할하여 과적합할 수 있으므로 적절한 값으로 제어 필요.\n",
        "* max_features  \n",
        "  - 최적의 분할을 위해 고려할 최대 피처 개수. 디폴트는 None으로 데이터 세트의 모든 피처를 사용해 분할 수행.\n",
        "  - int 형으로 지정하면 대상 피처의 개수, float 형으로 지정하면 전체 피처 중 대상 피처의 퍼센트임\n",
        "  - 'sqrt'는 전체 피처 중 sqrt(전체 피처 개수), 즉 $\\sqrt{전체 피처}$개수 만큼 선정\n",
        "  - 'auto'로 지정하면 sqrt와 동일\n",
        "  - 'log'는 전체 피처 중 log2(전체 피처 개수) 선정\n",
        "  - 'None'은 전체 피처 선정\n",
        "* min_samples_split  \n",
        "  - 노드를 분할하기 위한 최소한의 샘플 데이터 수로 과적합을 제어하는 데 사용됨.\n",
        "  - 디폴트는 2이고 작게 설정할수록 분할되는 노드가 많아져서 과적합 가능성 증가\n",
        "  - 과적합을 제어. 1 로 설정할 경우 분할되는 노드가 많아져서 과적합 가능성 증가\n",
        "* min_samples_leaf  \n",
        "  - 말단 노드(Leaf)가 되기 위한 최소한의 샘플 데이터 수\n",
        "  - Min_samples_split와 유사하게 과적합 제어 용도. 그러나 비대칭적(imbalanced) 데이터의 경우 특정 클래스의 데이터가 극도로 작을 수 있으므로 이 경우는 작게 설정 필요\n",
        "* max_leaf_nodes  \n",
        "  - 말단 노드(Leaf)의 최대 개수"
      ],
      "metadata": {
        "id": "aDdLnaRQUWBY"
      }
    }
  ]
}